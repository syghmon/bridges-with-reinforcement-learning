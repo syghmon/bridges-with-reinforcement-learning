{
 "cells": [
  {
   "cell_type": "code",
   "execution_count": null,
   "id": "07fc3e95",
   "metadata": {},
   "outputs": [],
   "source": [
    "import gym\n",
    "import assembly_gymenv\n",
    "import math\n",
    "import matplotlib.pyplot as plt\n",
    "import sys\n",
    "import os\n",
    "import pickle\n",
    "import numpy as np\n",
    "import torch\n",
    "\n",
    "from assembly_gymenv.envs.gym_env import *\n",
    "from assembly_gymenv.utils.geometry import *"
   ]
  },
  {
   "cell_type": "code",
   "execution_count": null,
   "id": "f77a4dad",
   "metadata": {},
   "outputs": [],
   "source": [
    "setup = {\"name\":\"bridge\", \"stories\":2}\n",
    "env = AssemblyGymEnv(setup)\n",
    "state = env.reset()\n",
    "print(state)"
   ]
  },
  {
   "cell_type": "code",
   "execution_count": null,
   "id": "e77e6734",
   "metadata": {},
   "outputs": [],
   "source": [
    "env = AssemblyGymEnv()\n",
    "state = env.reset()\n",
    "block_type = 1 # correponds to half-hexagons\n",
    "\n",
    "# There are 3 different ways of placing a block on the ground\n",
    "pos, orien = assemble_hexagonal_ground(np.array([0.3, 0.5, 0]), 0) \n",
    "state, reward, terminated, _ = env.step([pos, orien, block_type])\n",
    "\n",
    "# There are 10 different ways of placing a block on another block\n",
    "pos, orien = assemble_hexagonal_hexagonal(pos, orien, 0)\n",
    "state, reward, terminated, _ = env.step([pos, orien, block_type])\n",
    "\n",
    "pos, orien = assemble_hexagonal_hexagonal(pos, orien, 1)\n",
    "state, reward, terminated, _ = env.step([pos, orien, block_type])\n",
    "\n",
    "pos, orien = assemble_hexagonal_hexagonal(pos, orien, 0)\n",
    "state, reward, terminated, _ = env.step([pos, orien, block_type])\n",
    "\n",
    "pos, orien = assemble_hexagonal_hexagonal(pos, orien, 2)\n",
    "state, reward, terminated, _ = env.step([pos, orien, block_type])\n",
    "\n",
    "plt.figure()\n",
    "for b in state[\"blocks\"]:\n",
    "    v = vertices(1, b[:3], [0, b[3], 0])\n",
    "    plt.fill(v[:4,0], v[:4, 2], '+')\n",
    "plt.axis('equal')"
   ]
  },
  {
   "cell_type": "code",
   "execution_count": null,
   "id": "5a1cc730",
   "metadata": {},
   "outputs": [],
   "source": []
  }
 ],
 "metadata": {
  "kernelspec": {
   "display_name": "Python 3 (ipykernel)",
   "language": "python",
   "name": "python3"
  },
  "language_info": {
   "codemirror_mode": {
    "name": "ipython",
    "version": 3
   },
   "file_extension": ".py",
   "mimetype": "text/x-python",
   "name": "python",
   "nbconvert_exporter": "python",
   "pygments_lexer": "ipython3",
   "version": "3.10.8"
  }
 },
 "nbformat": 4,
 "nbformat_minor": 5
}
